{
 "cells": [
  {
   "cell_type": "markdown",
   "metadata": {
    "Collapsed": "false"
   },
   "source": [
    "# Conda Environments"
   ]
  },
  {
   "cell_type": "markdown",
   "metadata": {
    "Collapsed": "false"
   },
   "source": [
    "## Imports"
   ]
  },
  {
   "cell_type": "code",
   "execution_count": 1,
   "metadata": {
    "Collapsed": "false"
   },
   "outputs": [],
   "source": [
    "import os\n",
    "from os.path import dirname"
   ]
  },
  {
   "cell_type": "markdown",
   "metadata": {
    "Collapsed": "false"
   },
   "source": [
    "## Initialization\n",
    "\n",
    "Some important variables to be used afterwards."
   ]
  },
  {
   "cell_type": "code",
   "execution_count": 2,
   "metadata": {
    "Collapsed": "false"
   },
   "outputs": [],
   "source": [
    "name = \"missmercs\"\n",
    "\n",
    "root_dir = dirname(dirname(os.getcwd()))\n",
    "\n",
    "fn_conda_dep = 'dependencies-deploy.yaml'\n",
    "fn_conda_dev = 'dependencies-develop.yaml'"
   ]
  },
  {
   "cell_type": "markdown",
   "metadata": {
    "Collapsed": "false"
   },
   "source": [
    "# Introduction\n",
    "\n",
    "This cookiecutter is set up for optimal use with conda, for local dependency managment. The takeaway is this; for local dependency managment, we rely on conda and nothing else.\n",
    "\n",
    "Note that this has nothing to do with remote dependency managment. This is what you need to take care of when preparing a release of your code which goes via PyPi or alternatives. We treat that as an independent problem. Mixing remote and local dependency managment tends to add complexity instead of removing it."
   ]
  },
  {
   "cell_type": "markdown",
   "metadata": {
    "Collapsed": "false"
   },
   "source": [
    "# Workflow\n",
    "\n",
    "We distinguish between `deployment` and `development` environments. Of course, in research this is not always that useful or clear. We follow this rule of thumb:\n",
    "\n",
    "```\n",
    "Everything that should end up in pip release, goes in deployment\n",
    "```\n",
    "\n",
    "Which still justifies keeping the two separated."
   ]
  },
  {
   "cell_type": "markdown",
   "metadata": {
    "Collapsed": "false"
   },
   "source": [
    "## Deployment Environment\n",
    "\n",
    "This environment is whatever an end user may need in order to use your package.\n"
   ]
  },
  {
   "cell_type": "code",
   "execution_count": 3,
   "metadata": {
    "Collapsed": "false"
   },
   "outputs": [
    {
     "name": "stdout",
     "output_type": "stream",
     "text": [
      "# conda environments:\n",
      "#\n",
      "base                  *  /home/zissou/miniconda3\n",
      "admercs                  /home/zissou/miniconda3/envs/admercs\n",
      "aleph                    /home/zissou/miniconda3/envs/aleph\n",
      "autocompletion           /home/zissou/miniconda3/envs/autocompletion\n",
      "cern                     /home/zissou/miniconda3/envs/cern\n",
      "db-2020                  /home/zissou/miniconda3/envs/db-2020\n",
      "empty                    /home/zissou/miniconda3/envs/empty\n",
      "mercs-miss               /home/zissou/miniconda3/envs/mercs-miss\n",
      "missmercs                /home/zissou/miniconda3/envs/missmercs\n",
      "nba-anomaly-generator     /home/zissou/miniconda3/envs/nba-anomaly-generator\n",
      "rwrf                     /home/zissou/miniconda3/envs/rwrf\n",
      "synth_sandbox            /home/zissou/miniconda3/envs/synth_sandbox\n",
      "synthlog                 /home/zissou/miniconda3/envs/synthlog\n",
      "\n"
     ]
    }
   ],
   "source": [
    "%%bash -s \"$name\" \"$root_dir\" \"$fn_conda_dep\"\n",
    "\n",
    "source ~/.bashrc\n",
    "\n",
    "conda env list"
   ]
  },
  {
   "cell_type": "code",
   "execution_count": 4,
   "metadata": {
    "Collapsed": "false"
   },
   "outputs": [
    {
     "name": "stdout",
     "output_type": "stream",
     "text": [
      "Warning: you have pip-installed dependencies in your environment file, but you do not list pip itself as one of your conda dependencies.  Conda may not use the correct pip to install your packages, and they may end up in the wrong place.  Please add an explicit pip dependency.  I'm adding one for you, but still nagging you.\n"
     ]
    },
    {
     "name": "stderr",
     "output_type": "stream",
     "text": [
      "\n",
      "CondaValueError: prefix already exists: /home/zissou/miniconda3/envs/missmercs\n",
      "\n"
     ]
    },
    {
     "ename": "CalledProcessError",
     "evalue": "Command 'b'\\nsource ~/.bashrc\\n\\ncd $2\\n\\nconda env create -f $3 -n $1\\n'' returned non-zero exit status 1.",
     "output_type": "error",
     "traceback": [
      "\u001b[0;31m---------------------------------------------------------------------------\u001b[0m",
      "\u001b[0;31mCalledProcessError\u001b[0m                        Traceback (most recent call last)",
      "\u001b[0;32m<ipython-input-4-70466e75435b>\u001b[0m in \u001b[0;36m<module>\u001b[0;34m\u001b[0m\n\u001b[0;32m----> 1\u001b[0;31m \u001b[0mget_ipython\u001b[0m\u001b[0;34m(\u001b[0m\u001b[0;34m)\u001b[0m\u001b[0;34m.\u001b[0m\u001b[0mrun_cell_magic\u001b[0m\u001b[0;34m(\u001b[0m\u001b[0;34m'bash'\u001b[0m\u001b[0;34m,\u001b[0m \u001b[0;34m'-s \"$name\" \"$root_dir\" \"$fn_conda_dep\"'\u001b[0m\u001b[0;34m,\u001b[0m \u001b[0;34m'\\nsource ~/.bashrc\\n\\ncd $2\\n\\nconda env create -f $3 -n $1\\n'\u001b[0m\u001b[0;34m)\u001b[0m\u001b[0;34m\u001b[0m\u001b[0;34m\u001b[0m\u001b[0m\n\u001b[0m",
      "\u001b[0;32m~/miniconda3/lib/python3.8/site-packages/IPython/core/interactiveshell.py\u001b[0m in \u001b[0;36mrun_cell_magic\u001b[0;34m(self, magic_name, line, cell)\u001b[0m\n\u001b[1;32m   2360\u001b[0m             \u001b[0;32mwith\u001b[0m \u001b[0mself\u001b[0m\u001b[0;34m.\u001b[0m\u001b[0mbuiltin_trap\u001b[0m\u001b[0;34m:\u001b[0m\u001b[0;34m\u001b[0m\u001b[0;34m\u001b[0m\u001b[0m\n\u001b[1;32m   2361\u001b[0m                 \u001b[0margs\u001b[0m \u001b[0;34m=\u001b[0m \u001b[0;34m(\u001b[0m\u001b[0mmagic_arg_s\u001b[0m\u001b[0;34m,\u001b[0m \u001b[0mcell\u001b[0m\u001b[0;34m)\u001b[0m\u001b[0;34m\u001b[0m\u001b[0;34m\u001b[0m\u001b[0m\n\u001b[0;32m-> 2362\u001b[0;31m                 \u001b[0mresult\u001b[0m \u001b[0;34m=\u001b[0m \u001b[0mfn\u001b[0m\u001b[0;34m(\u001b[0m\u001b[0;34m*\u001b[0m\u001b[0margs\u001b[0m\u001b[0;34m,\u001b[0m \u001b[0;34m**\u001b[0m\u001b[0mkwargs\u001b[0m\u001b[0;34m)\u001b[0m\u001b[0;34m\u001b[0m\u001b[0;34m\u001b[0m\u001b[0m\n\u001b[0m\u001b[1;32m   2363\u001b[0m             \u001b[0;32mreturn\u001b[0m \u001b[0mresult\u001b[0m\u001b[0;34m\u001b[0m\u001b[0;34m\u001b[0m\u001b[0m\n\u001b[1;32m   2364\u001b[0m \u001b[0;34m\u001b[0m\u001b[0m\n",
      "\u001b[0;32m~/miniconda3/lib/python3.8/site-packages/IPython/core/magics/script.py\u001b[0m in \u001b[0;36mnamed_script_magic\u001b[0;34m(line, cell)\u001b[0m\n\u001b[1;32m    140\u001b[0m             \u001b[0;32melse\u001b[0m\u001b[0;34m:\u001b[0m\u001b[0;34m\u001b[0m\u001b[0;34m\u001b[0m\u001b[0m\n\u001b[1;32m    141\u001b[0m                 \u001b[0mline\u001b[0m \u001b[0;34m=\u001b[0m \u001b[0mscript\u001b[0m\u001b[0;34m\u001b[0m\u001b[0;34m\u001b[0m\u001b[0m\n\u001b[0;32m--> 142\u001b[0;31m             \u001b[0;32mreturn\u001b[0m \u001b[0mself\u001b[0m\u001b[0;34m.\u001b[0m\u001b[0mshebang\u001b[0m\u001b[0;34m(\u001b[0m\u001b[0mline\u001b[0m\u001b[0;34m,\u001b[0m \u001b[0mcell\u001b[0m\u001b[0;34m)\u001b[0m\u001b[0;34m\u001b[0m\u001b[0;34m\u001b[0m\u001b[0m\n\u001b[0m\u001b[1;32m    143\u001b[0m \u001b[0;34m\u001b[0m\u001b[0m\n\u001b[1;32m    144\u001b[0m         \u001b[0;31m# write a basic docstring:\u001b[0m\u001b[0;34m\u001b[0m\u001b[0;34m\u001b[0m\u001b[0;34m\u001b[0m\u001b[0m\n",
      "\u001b[0;32m<decorator-gen-110>\u001b[0m in \u001b[0;36mshebang\u001b[0;34m(self, line, cell)\u001b[0m\n",
      "\u001b[0;32m~/miniconda3/lib/python3.8/site-packages/IPython/core/magic.py\u001b[0m in \u001b[0;36m<lambda>\u001b[0;34m(f, *a, **k)\u001b[0m\n\u001b[1;32m    185\u001b[0m     \u001b[0;31m# but it's overkill for just that one bit of state.\u001b[0m\u001b[0;34m\u001b[0m\u001b[0;34m\u001b[0m\u001b[0;34m\u001b[0m\u001b[0m\n\u001b[1;32m    186\u001b[0m     \u001b[0;32mdef\u001b[0m \u001b[0mmagic_deco\u001b[0m\u001b[0;34m(\u001b[0m\u001b[0marg\u001b[0m\u001b[0;34m)\u001b[0m\u001b[0;34m:\u001b[0m\u001b[0;34m\u001b[0m\u001b[0;34m\u001b[0m\u001b[0m\n\u001b[0;32m--> 187\u001b[0;31m         \u001b[0mcall\u001b[0m \u001b[0;34m=\u001b[0m \u001b[0;32mlambda\u001b[0m \u001b[0mf\u001b[0m\u001b[0;34m,\u001b[0m \u001b[0;34m*\u001b[0m\u001b[0ma\u001b[0m\u001b[0;34m,\u001b[0m \u001b[0;34m**\u001b[0m\u001b[0mk\u001b[0m\u001b[0;34m:\u001b[0m \u001b[0mf\u001b[0m\u001b[0;34m(\u001b[0m\u001b[0;34m*\u001b[0m\u001b[0ma\u001b[0m\u001b[0;34m,\u001b[0m \u001b[0;34m**\u001b[0m\u001b[0mk\u001b[0m\u001b[0;34m)\u001b[0m\u001b[0;34m\u001b[0m\u001b[0;34m\u001b[0m\u001b[0m\n\u001b[0m\u001b[1;32m    188\u001b[0m \u001b[0;34m\u001b[0m\u001b[0m\n\u001b[1;32m    189\u001b[0m         \u001b[0;32mif\u001b[0m \u001b[0mcallable\u001b[0m\u001b[0;34m(\u001b[0m\u001b[0marg\u001b[0m\u001b[0;34m)\u001b[0m\u001b[0;34m:\u001b[0m\u001b[0;34m\u001b[0m\u001b[0;34m\u001b[0m\u001b[0m\n",
      "\u001b[0;32m~/miniconda3/lib/python3.8/site-packages/IPython/core/magics/script.py\u001b[0m in \u001b[0;36mshebang\u001b[0;34m(self, line, cell)\u001b[0m\n\u001b[1;32m    243\u001b[0m             \u001b[0msys\u001b[0m\u001b[0;34m.\u001b[0m\u001b[0mstderr\u001b[0m\u001b[0;34m.\u001b[0m\u001b[0mflush\u001b[0m\u001b[0;34m(\u001b[0m\u001b[0;34m)\u001b[0m\u001b[0;34m\u001b[0m\u001b[0;34m\u001b[0m\u001b[0m\n\u001b[1;32m    244\u001b[0m         \u001b[0;32mif\u001b[0m \u001b[0margs\u001b[0m\u001b[0;34m.\u001b[0m\u001b[0mraise_error\u001b[0m \u001b[0;32mand\u001b[0m \u001b[0mp\u001b[0m\u001b[0;34m.\u001b[0m\u001b[0mreturncode\u001b[0m\u001b[0;34m!=\u001b[0m\u001b[0;36m0\u001b[0m\u001b[0;34m:\u001b[0m\u001b[0;34m\u001b[0m\u001b[0;34m\u001b[0m\u001b[0m\n\u001b[0;32m--> 245\u001b[0;31m             \u001b[0;32mraise\u001b[0m \u001b[0mCalledProcessError\u001b[0m\u001b[0;34m(\u001b[0m\u001b[0mp\u001b[0m\u001b[0;34m.\u001b[0m\u001b[0mreturncode\u001b[0m\u001b[0;34m,\u001b[0m \u001b[0mcell\u001b[0m\u001b[0;34m,\u001b[0m \u001b[0moutput\u001b[0m\u001b[0;34m=\u001b[0m\u001b[0mout\u001b[0m\u001b[0;34m,\u001b[0m \u001b[0mstderr\u001b[0m\u001b[0;34m=\u001b[0m\u001b[0merr\u001b[0m\u001b[0;34m)\u001b[0m\u001b[0;34m\u001b[0m\u001b[0;34m\u001b[0m\u001b[0m\n\u001b[0m\u001b[1;32m    246\u001b[0m \u001b[0;34m\u001b[0m\u001b[0m\n\u001b[1;32m    247\u001b[0m     \u001b[0;32mdef\u001b[0m \u001b[0m_run_script\u001b[0m\u001b[0;34m(\u001b[0m\u001b[0mself\u001b[0m\u001b[0;34m,\u001b[0m \u001b[0mp\u001b[0m\u001b[0;34m,\u001b[0m \u001b[0mcell\u001b[0m\u001b[0;34m,\u001b[0m \u001b[0mto_close\u001b[0m\u001b[0;34m)\u001b[0m\u001b[0;34m:\u001b[0m\u001b[0;34m\u001b[0m\u001b[0;34m\u001b[0m\u001b[0m\n",
      "\u001b[0;31mCalledProcessError\u001b[0m: Command 'b'\\nsource ~/.bashrc\\n\\ncd $2\\n\\nconda env create -f $3 -n $1\\n'' returned non-zero exit status 1."
     ]
    }
   ],
   "source": [
    "%%bash -s \"$name\" \"$root_dir\" \"$fn_conda_dep\"\n",
    "\n",
    "source ~/.bashrc\n",
    "\n",
    "cd $2\n",
    "\n",
    "conda env create -f $3 -n $1"
   ]
  },
  {
   "cell_type": "markdown",
   "metadata": {
    "Collapsed": "false"
   },
   "source": [
    "## Development environment\n"
   ]
  },
  {
   "cell_type": "code",
   "execution_count": 5,
   "metadata": {
    "Collapsed": "false"
   },
   "outputs": [
    {
     "name": "stdout",
     "output_type": "stream",
     "text": [
      "Warning: you have pip-installed dependencies in your environment file, but you do not list pip itself as one of your conda dependencies.  Conda may not use the correct pip to install your packages, and they may end up in the wrong place.  Please add an explicit pip dependency.  I'm adding one for you, but still nagging you.\n",
      "Collecting package metadata (repodata.json): ...working... done\n",
      "Solving environment: ...working... done\n",
      "Ran pip subprocess with arguments:\n",
      "['/home/zissou/miniconda3/envs/missmercs/bin/python', '-m', 'pip', 'install', '-U', '-r', '/home/zissou/repos/missmercs/condaenv.tefkn1y6.requirements.txt']\n",
      "Pip subprocess output:\n",
      "Requirement already up-to-date: semantic-version in /home/zissou/miniconda3/envs/missmercs/lib/python3.8/site-packages (from -r /home/zissou/repos/missmercs/condaenv.tefkn1y6.requirements.txt (line 1)) (2.8.5)\n",
      "Requirement already up-to-date: ipykernel in /home/zissou/miniconda3/envs/missmercs/lib/python3.8/site-packages (from -r /home/zissou/repos/missmercs/condaenv.tefkn1y6.requirements.txt (line 2)) (5.3.0)\n",
      "Requirement already up-to-date: mkdocs-minify-plugin in /home/zissou/miniconda3/envs/missmercs/lib/python3.8/site-packages (from -r /home/zissou/repos/missmercs/condaenv.tefkn1y6.requirements.txt (line 3)) (0.3.0)\n",
      "Requirement already up-to-date: pymdown-extensions in /home/zissou/miniconda3/envs/missmercs/lib/python3.8/site-packages (from -r /home/zissou/repos/missmercs/condaenv.tefkn1y6.requirements.txt (line 4)) (7.1)\n",
      "Requirement already up-to-date: nb-black in /home/zissou/miniconda3/envs/missmercs/lib/python3.8/site-packages (from -r /home/zissou/repos/missmercs/condaenv.tefkn1y6.requirements.txt (line 5)) (1.0.7)\n",
      "Requirement already satisfied, skipping upgrade: tornado>=4.2 in /home/zissou/miniconda3/envs/missmercs/lib/python3.8/site-packages (from ipykernel->-r /home/zissou/repos/missmercs/condaenv.tefkn1y6.requirements.txt (line 2)) (6.0.4)\n",
      "Requirement already satisfied, skipping upgrade: ipython>=5.0.0 in /home/zissou/miniconda3/envs/missmercs/lib/python3.8/site-packages (from ipykernel->-r /home/zissou/repos/missmercs/condaenv.tefkn1y6.requirements.txt (line 2)) (7.15.0)\n",
      "Requirement already satisfied, skipping upgrade: jupyter-client in /home/zissou/miniconda3/envs/missmercs/lib/python3.8/site-packages (from ipykernel->-r /home/zissou/repos/missmercs/condaenv.tefkn1y6.requirements.txt (line 2)) (6.1.3)\n",
      "Requirement already satisfied, skipping upgrade: traitlets>=4.1.0 in /home/zissou/miniconda3/envs/missmercs/lib/python3.8/site-packages (from ipykernel->-r /home/zissou/repos/missmercs/condaenv.tefkn1y6.requirements.txt (line 2)) (4.3.3)\n",
      "Requirement already satisfied, skipping upgrade: mkdocs>=1.0.4 in /home/zissou/miniconda3/envs/missmercs/lib/python3.8/site-packages (from mkdocs-minify-plugin->-r /home/zissou/repos/missmercs/condaenv.tefkn1y6.requirements.txt (line 3)) (1.1.2)\n",
      "Requirement already satisfied, skipping upgrade: jsmin>=2.2.2 in /home/zissou/miniconda3/envs/missmercs/lib/python3.8/site-packages (from mkdocs-minify-plugin->-r /home/zissou/repos/missmercs/condaenv.tefkn1y6.requirements.txt (line 3)) (2.2.2)\n",
      "Requirement already satisfied, skipping upgrade: htmlmin>=0.1.4 in /home/zissou/miniconda3/envs/missmercs/lib/python3.8/site-packages (from mkdocs-minify-plugin->-r /home/zissou/repos/missmercs/condaenv.tefkn1y6.requirements.txt (line 3)) (0.1.12)\n",
      "Requirement already satisfied, skipping upgrade: Markdown>=3.2 in /home/zissou/miniconda3/envs/missmercs/lib/python3.8/site-packages (from pymdown-extensions->-r /home/zissou/repos/missmercs/condaenv.tefkn1y6.requirements.txt (line 4)) (3.2.2)\n",
      "Requirement already satisfied, skipping upgrade: black>='19.3'; python_version >= \"3.6\" in /home/zissou/miniconda3/envs/missmercs/lib/python3.8/site-packages (from nb-black->-r /home/zissou/repos/missmercs/condaenv.tefkn1y6.requirements.txt (line 5)) (19.10b0)\n",
      "Requirement already satisfied, skipping upgrade: setuptools>=18.5 in /home/zissou/.local/lib/python3.8/site-packages (from ipython>=5.0.0->ipykernel->-r /home/zissou/repos/missmercs/condaenv.tefkn1y6.requirements.txt (line 2)) (46.4.0)\n",
      "Requirement already satisfied, skipping upgrade: pexpect; sys_platform != \"win32\" in /home/zissou/miniconda3/envs/missmercs/lib/python3.8/site-packages (from ipython>=5.0.0->ipykernel->-r /home/zissou/repos/missmercs/condaenv.tefkn1y6.requirements.txt (line 2)) (4.8.0)\n",
      "Requirement already satisfied, skipping upgrade: pickleshare in /home/zissou/miniconda3/envs/missmercs/lib/python3.8/site-packages (from ipython>=5.0.0->ipykernel->-r /home/zissou/repos/missmercs/condaenv.tefkn1y6.requirements.txt (line 2)) (0.7.5)\n",
      "Requirement already satisfied, skipping upgrade: backcall in /home/zissou/miniconda3/envs/missmercs/lib/python3.8/site-packages (from ipython>=5.0.0->ipykernel->-r /home/zissou/repos/missmercs/condaenv.tefkn1y6.requirements.txt (line 2)) (0.2.0)\n",
      "Requirement already satisfied, skipping upgrade: jedi>=0.10 in /home/zissou/miniconda3/envs/missmercs/lib/python3.8/site-packages (from ipython>=5.0.0->ipykernel->-r /home/zissou/repos/missmercs/condaenv.tefkn1y6.requirements.txt (line 2)) (0.17.0)\n",
      "Requirement already satisfied, skipping upgrade: prompt-toolkit!=3.0.0,!=3.0.1,<3.1.0,>=2.0.0 in /home/zissou/miniconda3/envs/missmercs/lib/python3.8/site-packages (from ipython>=5.0.0->ipykernel->-r /home/zissou/repos/missmercs/condaenv.tefkn1y6.requirements.txt (line 2)) (3.0.5)\n",
      "Requirement already satisfied, skipping upgrade: decorator in /home/zissou/miniconda3/envs/missmercs/lib/python3.8/site-packages (from ipython>=5.0.0->ipykernel->-r /home/zissou/repos/missmercs/condaenv.tefkn1y6.requirements.txt (line 2)) (4.4.2)\n",
      "Requirement already satisfied, skipping upgrade: pygments in /home/zissou/miniconda3/envs/missmercs/lib/python3.8/site-packages (from ipython>=5.0.0->ipykernel->-r /home/zissou/repos/missmercs/condaenv.tefkn1y6.requirements.txt (line 2)) (2.6.1)\n",
      "Requirement already satisfied, skipping upgrade: jupyter-core>=4.6.0 in /home/zissou/miniconda3/envs/missmercs/lib/python3.8/site-packages (from jupyter-client->ipykernel->-r /home/zissou/repos/missmercs/condaenv.tefkn1y6.requirements.txt (line 2)) (4.6.3)\n",
      "Requirement already satisfied, skipping upgrade: python-dateutil>=2.1 in /home/zissou/miniconda3/envs/missmercs/lib/python3.8/site-packages (from jupyter-client->ipykernel->-r /home/zissou/repos/missmercs/condaenv.tefkn1y6.requirements.txt (line 2)) (2.8.1)\n",
      "Requirement already satisfied, skipping upgrade: pyzmq>=13 in /home/zissou/miniconda3/envs/missmercs/lib/python3.8/site-packages (from jupyter-client->ipykernel->-r /home/zissou/repos/missmercs/condaenv.tefkn1y6.requirements.txt (line 2)) (18.1.1)\n",
      "Requirement already satisfied, skipping upgrade: six in /home/zissou/miniconda3/envs/missmercs/lib/python3.8/site-packages (from traitlets>=4.1.0->ipykernel->-r /home/zissou/repos/missmercs/condaenv.tefkn1y6.requirements.txt (line 2)) (1.15.0)\n",
      "Requirement already satisfied, skipping upgrade: ipython-genutils in /home/zissou/miniconda3/envs/missmercs/lib/python3.8/site-packages (from traitlets>=4.1.0->ipykernel->-r /home/zissou/repos/missmercs/condaenv.tefkn1y6.requirements.txt (line 2)) (0.2.0)\n",
      "Requirement already satisfied, skipping upgrade: Jinja2>=2.10.1 in /home/zissou/miniconda3/envs/missmercs/lib/python3.8/site-packages (from mkdocs>=1.0.4->mkdocs-minify-plugin->-r /home/zissou/repos/missmercs/condaenv.tefkn1y6.requirements.txt (line 3)) (2.11.2)\n",
      "Requirement already satisfied, skipping upgrade: livereload>=2.5.1 in /home/zissou/miniconda3/envs/missmercs/lib/python3.8/site-packages (from mkdocs>=1.0.4->mkdocs-minify-plugin->-r /home/zissou/repos/missmercs/condaenv.tefkn1y6.requirements.txt (line 3)) (2.6.2)\n",
      "Requirement already satisfied, skipping upgrade: PyYAML>=3.10 in /home/zissou/miniconda3/envs/missmercs/lib/python3.8/site-packages (from mkdocs>=1.0.4->mkdocs-minify-plugin->-r /home/zissou/repos/missmercs/condaenv.tefkn1y6.requirements.txt (line 3)) (5.3.1)\n",
      "Requirement already satisfied, skipping upgrade: click>=3.3 in /home/zissou/miniconda3/envs/missmercs/lib/python3.8/site-packages (from mkdocs>=1.0.4->mkdocs-minify-plugin->-r /home/zissou/repos/missmercs/condaenv.tefkn1y6.requirements.txt (line 3)) (7.1.2)\n",
      "Requirement already satisfied, skipping upgrade: lunr[languages]==0.5.8 in /home/zissou/miniconda3/envs/missmercs/lib/python3.8/site-packages (from mkdocs>=1.0.4->mkdocs-minify-plugin->-r /home/zissou/repos/missmercs/condaenv.tefkn1y6.requirements.txt (line 3)) (0.5.8)\n",
      "Requirement already satisfied, skipping upgrade: appdirs in /home/zissou/miniconda3/envs/missmercs/lib/python3.8/site-packages (from black>='19.3'; python_version >= \"3.6\"->nb-black->-r /home/zissou/repos/missmercs/condaenv.tefkn1y6.requirements.txt (line 5)) (1.4.4)\n",
      "Requirement already satisfied, skipping upgrade: toml>=0.9.4 in /home/zissou/miniconda3/envs/missmercs/lib/python3.8/site-packages (from black>='19.3'; python_version >= \"3.6\"->nb-black->-r /home/zissou/repos/missmercs/condaenv.tefkn1y6.requirements.txt (line 5)) (0.10.1)\n",
      "Requirement already satisfied, skipping upgrade: regex in /home/zissou/miniconda3/envs/missmercs/lib/python3.8/site-packages (from black>='19.3'; python_version >= \"3.6\"->nb-black->-r /home/zissou/repos/missmercs/condaenv.tefkn1y6.requirements.txt (line 5)) (2020.6.8)\n",
      "Requirement already satisfied, skipping upgrade: attrs>=18.1.0 in /home/zissou/miniconda3/envs/missmercs/lib/python3.8/site-packages (from black>='19.3'; python_version >= \"3.6\"->nb-black->-r /home/zissou/repos/missmercs/condaenv.tefkn1y6.requirements.txt (line 5)) (19.3.0)\n",
      "Requirement already satisfied, skipping upgrade: typed-ast>=1.4.0 in /home/zissou/miniconda3/envs/missmercs/lib/python3.8/site-packages (from black>='19.3'; python_version >= \"3.6\"->nb-black->-r /home/zissou/repos/missmercs/condaenv.tefkn1y6.requirements.txt (line 5)) (1.4.1)\n",
      "Requirement already satisfied, skipping upgrade: pathspec<1,>=0.6 in /home/zissou/miniconda3/envs/missmercs/lib/python3.8/site-packages (from black>='19.3'; python_version >= \"3.6\"->nb-black->-r /home/zissou/repos/missmercs/condaenv.tefkn1y6.requirements.txt (line 5)) (0.8.0)\n",
      "Requirement already satisfied, skipping upgrade: ptyprocess>=0.5 in /home/zissou/miniconda3/envs/missmercs/lib/python3.8/site-packages (from pexpect; sys_platform != \"win32\"->ipython>=5.0.0->ipykernel->-r /home/zissou/repos/missmercs/condaenv.tefkn1y6.requirements.txt (line 2)) (0.6.0)\n",
      "Requirement already satisfied, skipping upgrade: parso>=0.7.0 in /home/zissou/miniconda3/envs/missmercs/lib/python3.8/site-packages (from jedi>=0.10->ipython>=5.0.0->ipykernel->-r /home/zissou/repos/missmercs/condaenv.tefkn1y6.requirements.txt (line 2)) (0.7.0)\n",
      "Requirement already satisfied, skipping upgrade: wcwidth in /home/zissou/miniconda3/envs/missmercs/lib/python3.8/site-packages (from prompt-toolkit!=3.0.0,!=3.0.1,<3.1.0,>=2.0.0->ipython>=5.0.0->ipykernel->-r /home/zissou/repos/missmercs/condaenv.tefkn1y6.requirements.txt (line 2)) (0.2.4)\n",
      "Requirement already satisfied, skipping upgrade: MarkupSafe>=0.23 in /home/zissou/miniconda3/envs/missmercs/lib/python3.8/site-packages (from Jinja2>=2.10.1->mkdocs>=1.0.4->mkdocs-minify-plugin->-r /home/zissou/repos/missmercs/condaenv.tefkn1y6.requirements.txt (line 3)) (1.1.1)\n",
      "Requirement already satisfied, skipping upgrade: future>=0.16.0 in /home/zissou/miniconda3/envs/missmercs/lib/python3.8/site-packages (from lunr[languages]==0.5.8->mkdocs>=1.0.4->mkdocs-minify-plugin->-r /home/zissou/repos/missmercs/condaenv.tefkn1y6.requirements.txt (line 3)) (0.18.2)\n",
      "Requirement already satisfied, skipping upgrade: nltk>=3.2.5; python_version > \"2.7\" and extra == \"languages\" in /home/zissou/miniconda3/envs/missmercs/lib/python3.8/site-packages (from lunr[languages]==0.5.8->mkdocs>=1.0.4->mkdocs-minify-plugin->-r /home/zissou/repos/missmercs/condaenv.tefkn1y6.requirements.txt (line 3)) (3.4.5)\n",
      "\n",
      "#\n",
      "# To activate this environment, use\n",
      "#\n",
      "#     $ conda activate missmercs\n",
      "#\n",
      "# To deactivate an active environment, use\n",
      "#\n",
      "#     $ conda deactivate\n",
      "\n"
     ]
    }
   ],
   "source": [
    "%%bash -s \"$name\" \"$root_dir\" \"$fn_conda_dev\"\n",
    "\n",
    "source ~/.bashrc\n",
    "\n",
    "cd $2\n",
    "\n",
    "conda activate $1\n",
    "\n",
    "conda env update -n $1 -f $3"
   ]
  },
  {
   "cell_type": "markdown",
   "metadata": {
    "Collapsed": "false"
   },
   "source": [
    "## Jupyter kernel\n",
    "\n",
    "Expose the environment to your jupyter."
   ]
  },
  {
   "cell_type": "code",
   "execution_count": 6,
   "metadata": {
    "Collapsed": "false"
   },
   "outputs": [
    {
     "name": "stdout",
     "output_type": "stream",
     "text": [
      "Installed kernelspec missmercs in /home/zissou/.local/share/jupyter/kernels/missmercs\n"
     ]
    }
   ],
   "source": [
    "%%bash -s \"$name\" \"$root_dir\" \"$fn_conda_dep\"\n",
    "\n",
    "source ~/.bashrc\n",
    "\n",
    "cd $2\n",
    "\n",
    "conda activate $1\n",
    "python -m ipykernel install --user --name $1 --display-name \"$1\""
   ]
  }
 ],
 "metadata": {
  "kernelspec": {
   "display_name": "Python 3",
   "language": "python",
   "name": "python3"
  },
  "language_info": {
   "codemirror_mode": {
    "name": "ipython",
    "version": 3
   },
   "file_extension": ".py",
   "mimetype": "text/x-python",
   "name": "python",
   "nbconvert_exporter": "python",
   "pygments_lexer": "ipython3",
   "version": "3.8.2"
  },
  "toc-autonumbering": true
 },
 "nbformat": 4,
 "nbformat_minor": 4
}
